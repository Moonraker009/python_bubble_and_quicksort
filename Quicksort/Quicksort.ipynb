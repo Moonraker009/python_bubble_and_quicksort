{
 "cells": [
  {
   "cell_type": "code",
   "execution_count": 63,
   "metadata": {},
   "outputs": [
    {
     "name": "stdout",
     "output_type": "stream",
     "text": [
      "[10, 23, 57, 74, 92, 2, 92, 65, 17, 7, 3, 8, 13, 84, 22, 36, 66, 40, 44, 64, 45, 73, 17, 66, 12, 23, 67, 98, 63, 85, 66, 72, 1, 22, 40, 82, 48, 73, 2, 91, 89, 9, 98, 99, 33, 42, 25, 61, 55, 3, 26, 74, 99, 40, 82, 5, 98, 67, 79, 7, 65, 96, 99, 7, 27, 91, 11, 95, 13, 80, 81, 24, 56, 61, 64, 89, 6, 20, 67, 98, 37, 26, 84, 65, 46, 24, 37, 56, 99, 65, 62, 93, 64, 74, 94, 98, 45, 60, 31, 33]\n"
     ]
    }
   ],
   "source": [
    "import random\n",
    "random.randrange(1,100)\n",
    "tab = [random.randrange(1,100) for i in range(0,100)]\n",
    "print(tab)\n",
    "z = tab"
   ]
  },
  {
   "cell_type": "code",
   "execution_count": 73,
   "metadata": {},
   "outputs": [],
   "source": [
    "def quicksort(tab):\n",
    "    if len(tab) < 2:\n",
    "        return tab\n",
    "    mid = int(len(tab)/2)\n",
    "    left = []\n",
    "    right = []\n",
    "    for i in range(0,mid):\n",
    "        if tab[i] < tab[mid]:\n",
    "            left.append(tab[i])\n",
    "        else:\n",
    "            right.append(tab[i]) \n",
    "            \n",
    "    for i in range(mid+1, len(tab)):\n",
    "        if tab[i] < tab[mid]:\n",
    "            left.append(tab[i])\n",
    "        else:\n",
    "            right.append(tab[i])\n",
    "\n",
    "    return quicksort(left) + [tab[mid]] + quicksort(right)\n",
    "    "
   ]
  },
  {
   "cell_type": "code",
   "execution_count": 71,
   "metadata": {},
   "outputs": [
    {
     "name": "stdout",
     "output_type": "stream",
     "text": [
      "[1, 2, 2, 3, 3, 5, 6, 7, 7, 7, 8, 9, 10, 11, 12, 13, 13, 17, 17, 20, 22, 22, 23, 23, 24, 24, 25, 26, 26, 27, 31, 33, 33, 36, 37, 37, 40, 40, 40, 42, 44, 45, 45, 46, 48, 55, 56, 56, 57, 60, 61, 61, 62, 63, 64, 64, 64, 65, 65, 65, 65, 66, 66, 66, 67, 67, 67, 72, 73, 73, 74, 74, 74, 79, 80, 81, 82, 82, 84, 84, 85, 89, 89, 91, 91, 92, 92, 93, 94, 95, 96, 98, 98, 98, 98, 98, 99, 99, 99, 99]\n",
      "[1, 2, 2, 3, 3, 5, 6, 7, 7, 7, 8, 9, 10, 11, 12, 13, 13, 17, 17, 20, 22, 22, 23, 23, 24, 24, 25, 26, 26, 27, 31, 33, 33, 36, 37, 37, 40, 40, 40, 42, 44, 45, 45, 46, 48, 55, 56, 56, 57, 60, 61, 61, 62, 63, 64, 64, 64, 65, 65, 65, 65, 66, 66, 66, 67, 67, 67, 72, 73, 73, 74, 74, 74, 79, 80, 81, 82, 82, 84, 84, 85, 89, 89, 91, 91, 92, 92, 93, 94, 95, 96, 98, 98, 98, 98, 98, 99, 99, 99, 99]\n"
     ]
    }
   ],
   "source": [
    "q = quicksort(tab)\n",
    "print(q)\n",
    "print(z)"
   ]
  },
  {
   "cell_type": "code",
   "execution_count": null,
   "metadata": {},
   "outputs": [],
   "source": []
  }
 ],
 "metadata": {
  "kernelspec": {
   "display_name": "Python 3",
   "language": "python",
   "name": "python3"
  },
  "language_info": {
   "codemirror_mode": {
    "name": "ipython",
    "version": 3
   },
   "file_extension": ".py",
   "mimetype": "text/x-python",
   "name": "python",
   "nbconvert_exporter": "python",
   "pygments_lexer": "ipython3",
   "version": "3.7.2"
  }
 },
 "nbformat": 4,
 "nbformat_minor": 4
}
